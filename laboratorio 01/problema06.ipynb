{
 "cells": [
  {
   "cell_type": "markdown",
   "id": "6e7596ae-d64d-4316-97ca-542e4ffabcd6",
   "metadata": {},
   "source": [
    "## Problema 06"
   ]
  },
  {
   "cell_type": "markdown",
   "id": "27f5db26-e953-4bc0-acac-604f8988f45b",
   "metadata": {},
   "source": [
    "### Modelo de color HSV (Hue, Saturation, Value)"
   ]
  },
  {
   "cell_type": "markdown",
   "id": "97a54ecd-94b1-472f-87a6-481f53c1e7ab",
   "metadata": {},
   "source": [
    "El modelo de Color HSV utiliza una combinación entre Matiz, saturación y el valor del color que se desa definir. \n",
    "\n",
    "#### Matiz (Hue)\n",
    "Se dispone de 360 grados dónde se dividen los 3 colores RGB, eso da un total de 120º por color, sabiendo esto podemos recordar que el 0 es rojo RGB(1, 0, 0), 120 es verde RGB(0, 1, 0) y 240 es azul RGB(0, 0, 1). Para colores mixtos se utilizan los grados intermedios, el amarillo, RGB(1, 1, 0) está entre rojo y verde, por lo tanto 60º.\n",
    "\n",
    "#### Saturación \n",
    "Se representa como la distancia al eje de brillo negro-blanco. Los valores posibles van del 0 al 100%. \n",
    "\n",
    "#### Valor \n",
    "Representa la altura en el eje blanco-negro. Los valores posibles van del 0 al 100%. 0 siempre es negro. Dependiendo de la saturación, 100 podría ser blanco o un color más o menos saturado.\n"
   ]
  },
  {
   "cell_type": "markdown",
   "id": "c025ef44-3b6a-44b2-bbcc-2118585559b1",
   "metadata": {},
   "source": [
    "![HSV](hsv.png \"Hue, Saturation, Value\")"
   ]
  }
 ],
 "metadata": {
  "kernelspec": {
   "display_name": "Python 3",
   "language": "python",
   "name": "python3"
  },
  "language_info": {
   "codemirror_mode": {
    "name": "ipython",
    "version": 3
   },
   "file_extension": ".py",
   "mimetype": "text/x-python",
   "name": "python",
   "nbconvert_exporter": "python",
   "pygments_lexer": "ipython3",
   "version": "3.8.5"
  }
 },
 "nbformat": 4,
 "nbformat_minor": 5
}
